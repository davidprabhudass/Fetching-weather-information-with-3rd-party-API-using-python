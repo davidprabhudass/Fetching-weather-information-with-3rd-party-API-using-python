{
  "nbformat": 4,
  "nbformat_minor": 0,
  "metadata": {
    "colab": {
      "name": "Fetching weather information with 3rd party API using python .ipynb",
      "provenance": [],
      "collapsed_sections": [],
      "toc_visible": true
    },
    "kernelspec": {
      "name": "python3",
      "display_name": "Python 3"
    },
    "language_info": {
      "name": "python"
    }
  },
  "cells": [
    {
      "cell_type": "code",
      "metadata": {
        "colab": {
          "base_uri": "https://localhost:8080/"
        },
        "id": "PpVAKiLGyXIp",
        "outputId": "8258d328-77c4-4086-b49d-8f34e1527158"
      },
      "source": [
        "import requests\n",
        "from datetime import datetime\n",
        "\n",
        "\n",
        "api_key = '845a50f773c0febfd9bd5db89714c3a7'\n",
        "location = input(\"Enter the city name: \")\n",
        "\n",
        "complete_api_link = \"https://api.openweathermap.org/data/2.5/weather?q=\"+location+\"&appid=\"+api_key\n",
        "api_link = requests.get(complete_api_link)\n",
        "api_data = api_link.json()\n",
        "\n",
        "temp_city = ((api_data['main']['temp']) - 273.15)\n",
        "weather_desc = api_data['weather'][0]['description']\n",
        "hmdt = api_data['main']['humidity']\n",
        "wind_spd = api_data['wind']['speed']\n",
        "date_time = datetime.now().strftime(\"%d %b %Y | %I:%M:%S %p\")\n",
        "\n",
        "print (\"-------------------------------------------------------------\")\n",
        "print (\"Weather Stats for - {}  || {}\".format(location.upper(), date_time))\n",
        "print (\"-------------------------------------------------------------\")\n",
        "\n",
        "print (\"Current temperature is: {:.2f} deg C\".format(temp_city))\n",
        "print (\"Current weather desc  :\",weather_desc)\n",
        "print (\"Current Humidity      :\",hmdt, '%')\n",
        "print (\"Current wind speed    :\",wind_spd ,'kmph')\n",
        "\n",
        "r=requests.get('https://colab.research.google.com/drive/1w-Sx_4TkicFgbTJQV2xy3oR7qxbonXV7#scrollTo=PpVAKiLGyXIp&line=27&uniqifier=1')\n",
        "with open('weather.text','wb') as f:\n",
        "  f.write(r.content)"
      ],
      "execution_count": 23,
      "outputs": [
        {
          "output_type": "stream",
          "text": [
            "Enter the city name: chennai\n",
            "-------------------------------------------------------------\n",
            "Weather Stats for - CHENNAI  || 22 Jun 2021 | 08:33:30 AM\n",
            "-------------------------------------------------------------\n",
            "Current temperature is: 34.98 deg C\n",
            "Current weather desc  : scattered clouds\n",
            "Current Humidity      : 63 %\n",
            "Current wind speed    : 1.79 kmph\n"
          ],
          "name": "stdout"
        }
      ]
    }
  ]
}